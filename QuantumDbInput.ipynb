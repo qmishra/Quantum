{
  "nbformat": 4,
  "nbformat_minor": 0,
  "metadata": {
    "colab": {
      "name": "QuantumDbInput.ipynb",
      "provenance": [],
      "collapsed_sections": [],
      "authorship_tag": "ABX9TyP7MXe0NZw416VacsnsX/98",
      "include_colab_link": true
    },
    "kernelspec": {
      "name": "python3",
      "display_name": "Python 3"
    },
    "language_info": {
      "name": "python"
    }
  },
  "cells": [
    {
      "cell_type": "markdown",
      "metadata": {
        "id": "view-in-github",
        "colab_type": "text"
      },
      "source": [
        "<a href=\"https://colab.research.google.com/github/qmishra/QuantumDbInput/blob/main/QuantumDbInput.ipynb\" target=\"_parent\"><img src=\"https://colab.research.google.com/assets/colab-badge.svg\" alt=\"Open In Colab\"/></a>"
      ]
    },
    {
      "cell_type": "code",
      "metadata": {
        "colab": {
          "base_uri": "https://localhost:8080/"
        },
        "id": "lEi9ubiKTUrP",
        "outputId": "4f43eac8-0498-4d21-ed55-06c29297da16"
      },
      "source": [
        "pip install firebase"
      ],
      "execution_count": 7,
      "outputs": [
        {
          "output_type": "stream",
          "text": [
            "Collecting firebase\n",
            "  Downloading https://files.pythonhosted.org/packages/f8/33/6b2a24e349563f2d279ccc8321f26a9c0d6d2f8205adb68f3046c3ec7a89/firebase-3.0.1-py3-none-any.whl\n",
            "Requirement already satisfied: requests in /usr/local/lib/python3.7/dist-packages (from firebase) (2.23.0)\n",
            "Requirement already satisfied: certifi>=2017.4.17 in /usr/local/lib/python3.7/dist-packages (from requests->firebase) (2020.12.5)\n",
            "Requirement already satisfied: idna<3,>=2.5 in /usr/local/lib/python3.7/dist-packages (from requests->firebase) (2.10)\n",
            "Requirement already satisfied: urllib3!=1.25.0,!=1.25.1,<1.26,>=1.21.1 in /usr/local/lib/python3.7/dist-packages (from requests->firebase) (1.24.3)\n",
            "Requirement already satisfied: chardet<4,>=3.0.2 in /usr/local/lib/python3.7/dist-packages (from requests->firebase) (3.0.4)\n",
            "Installing collected packages: firebase\n",
            "Successfully installed firebase-3.0.1\n"
          ],
          "name": "stdout"
        }
      ]
    },
    {
      "cell_type": "code",
      "metadata": {
        "colab": {
          "base_uri": "https://localhost:8080/"
        },
        "id": "pHmEirg5T4jD",
        "outputId": "358902ad-7c82-429f-da97-fe2a4de23a8d"
      },
      "source": [
        "pip install python_jwt"
      ],
      "execution_count": 9,
      "outputs": [
        {
          "output_type": "stream",
          "text": [
            "Collecting python_jwt\n",
            "  Downloading https://files.pythonhosted.org/packages/91/bb/b25bab0cb862317d0afd34b38fd95f417a5a80fc5313a3f049952626f283/python_jwt-3.3.0-py2.py3-none-any.whl\n",
            "Collecting jwcrypto>=0.8\n",
            "\u001b[?25l  Downloading https://files.pythonhosted.org/packages/cc/a8/2ab318a407025203579bb4f45ec4ab80bff2c5a69c41ab39558bdf3c985d/jwcrypto-0.8-py2.py3-none-any.whl (79kB)\n",
            "\u001b[K     |████████████████████████████████| 81kB 4.5MB/s \n",
            "\u001b[?25hCollecting cryptography>=2.3\n",
            "\u001b[?25l  Downloading https://files.pythonhosted.org/packages/b2/26/7af637e6a7e87258b963f1731c5982fb31cd507f0d90d91836e446955d02/cryptography-3.4.7-cp36-abi3-manylinux2014_x86_64.whl (3.2MB)\n",
            "\u001b[K     |████████████████████████████████| 3.2MB 13.3MB/s \n",
            "\u001b[?25hRequirement already satisfied: cffi>=1.12 in /usr/local/lib/python3.7/dist-packages (from cryptography>=2.3->jwcrypto>=0.8->python_jwt) (1.14.5)\n",
            "Requirement already satisfied: pycparser in /usr/local/lib/python3.7/dist-packages (from cffi>=1.12->cryptography>=2.3->jwcrypto>=0.8->python_jwt) (2.20)\n",
            "Installing collected packages: cryptography, jwcrypto, python-jwt\n",
            "Successfully installed cryptography-3.4.7 jwcrypto-0.8 python-jwt-3.3.0\n"
          ],
          "name": "stdout"
        }
      ]
    },
    {
      "cell_type": "code",
      "metadata": {
        "colab": {
          "base_uri": "https://localhost:8080/"
        },
        "id": "q3-SD9_bT4VA",
        "outputId": "9a5d819f-deb6-48d1-a8cd-14d5a0a8ffe2"
      },
      "source": [
        "pip install gcloud"
      ],
      "execution_count": 10,
      "outputs": [
        {
          "output_type": "stream",
          "text": [
            "Collecting gcloud\n",
            "\u001b[?25l  Downloading https://files.pythonhosted.org/packages/11/ab/d0cee58db2d8445c26e6f5db25d9b1f1aa14a3ab30eea8ce77ae808d10ef/gcloud-0.18.3.tar.gz (454kB)\n",
            "\r\u001b[K     |▊                               | 10kB 15.6MB/s eta 0:00:01\r\u001b[K     |█▍                              | 20kB 20.9MB/s eta 0:00:01\r\u001b[K     |██▏                             | 30kB 25.2MB/s eta 0:00:01\r\u001b[K     |██▉                             | 40kB 15.2MB/s eta 0:00:01\r\u001b[K     |███▋                            | 51kB 7.8MB/s eta 0:00:01\r\u001b[K     |████▎                           | 61kB 8.8MB/s eta 0:00:01\r\u001b[K     |█████                           | 71kB 9.6MB/s eta 0:00:01\r\u001b[K     |█████▊                          | 81kB 9.0MB/s eta 0:00:01\r\u001b[K     |██████▌                         | 92kB 8.2MB/s eta 0:00:01\r\u001b[K     |███████▏                        | 102kB 8.0MB/s eta 0:00:01\r\u001b[K     |████████                        | 112kB 8.0MB/s eta 0:00:01\r\u001b[K     |████████▋                       | 122kB 8.0MB/s eta 0:00:01\r\u001b[K     |█████████▍                      | 133kB 8.0MB/s eta 0:00:01\r\u001b[K     |██████████                      | 143kB 8.0MB/s eta 0:00:01\r\u001b[K     |██████████▉                     | 153kB 8.0MB/s eta 0:00:01\r\u001b[K     |███████████▌                    | 163kB 8.0MB/s eta 0:00:01\r\u001b[K     |████████████▎                   | 174kB 8.0MB/s eta 0:00:01\r\u001b[K     |█████████████                   | 184kB 8.0MB/s eta 0:00:01\r\u001b[K     |█████████████▊                  | 194kB 8.0MB/s eta 0:00:01\r\u001b[K     |██████████████▍                 | 204kB 8.0MB/s eta 0:00:01\r\u001b[K     |███████████████▏                | 215kB 8.0MB/s eta 0:00:01\r\u001b[K     |███████████████▉                | 225kB 8.0MB/s eta 0:00:01\r\u001b[K     |████████████████▋               | 235kB 8.0MB/s eta 0:00:01\r\u001b[K     |█████████████████▎              | 245kB 8.0MB/s eta 0:00:01\r\u001b[K     |██████████████████              | 256kB 8.0MB/s eta 0:00:01\r\u001b[K     |██████████████████▊             | 266kB 8.0MB/s eta 0:00:01\r\u001b[K     |███████████████████▌            | 276kB 8.0MB/s eta 0:00:01\r\u001b[K     |████████████████████▏           | 286kB 8.0MB/s eta 0:00:01\r\u001b[K     |█████████████████████           | 296kB 8.0MB/s eta 0:00:01\r\u001b[K     |█████████████████████▋          | 307kB 8.0MB/s eta 0:00:01\r\u001b[K     |██████████████████████▍         | 317kB 8.0MB/s eta 0:00:01\r\u001b[K     |███████████████████████         | 327kB 8.0MB/s eta 0:00:01\r\u001b[K     |███████████████████████▉        | 337kB 8.0MB/s eta 0:00:01\r\u001b[K     |████████████████████████▌       | 348kB 8.0MB/s eta 0:00:01\r\u001b[K     |█████████████████████████▎      | 358kB 8.0MB/s eta 0:00:01\r\u001b[K     |██████████████████████████      | 368kB 8.0MB/s eta 0:00:01\r\u001b[K     |██████████████████████████▊     | 378kB 8.0MB/s eta 0:00:01\r\u001b[K     |███████████████████████████▍    | 389kB 8.0MB/s eta 0:00:01\r\u001b[K     |████████████████████████████▏   | 399kB 8.0MB/s eta 0:00:01\r\u001b[K     |████████████████████████████▉   | 409kB 8.0MB/s eta 0:00:01\r\u001b[K     |█████████████████████████████▋  | 419kB 8.0MB/s eta 0:00:01\r\u001b[K     |██████████████████████████████▎ | 430kB 8.0MB/s eta 0:00:01\r\u001b[K     |███████████████████████████████ | 440kB 8.0MB/s eta 0:00:01\r\u001b[K     |███████████████████████████████▊| 450kB 8.0MB/s eta 0:00:01\r\u001b[K     |████████████████████████████████| 460kB 8.0MB/s \n",
            "\u001b[?25hRequirement already satisfied: httplib2>=0.9.1 in /usr/local/lib/python3.7/dist-packages (from gcloud) (0.17.4)\n",
            "Requirement already satisfied: googleapis-common-protos in /usr/local/lib/python3.7/dist-packages (from gcloud) (1.53.0)\n",
            "Requirement already satisfied: oauth2client>=2.0.1 in /usr/local/lib/python3.7/dist-packages (from gcloud) (4.1.3)\n",
            "Requirement already satisfied: protobuf!=3.0.0.b2.post1,>=3.0.0b2 in /usr/local/lib/python3.7/dist-packages (from gcloud) (3.12.4)\n",
            "Requirement already satisfied: six in /usr/local/lib/python3.7/dist-packages (from gcloud) (1.15.0)\n",
            "Requirement already satisfied: pyasn1>=0.1.7 in /usr/local/lib/python3.7/dist-packages (from oauth2client>=2.0.1->gcloud) (0.4.8)\n",
            "Requirement already satisfied: rsa>=3.1.4 in /usr/local/lib/python3.7/dist-packages (from oauth2client>=2.0.1->gcloud) (4.7.2)\n",
            "Requirement already satisfied: pyasn1-modules>=0.0.5 in /usr/local/lib/python3.7/dist-packages (from oauth2client>=2.0.1->gcloud) (0.2.8)\n",
            "Requirement already satisfied: setuptools in /usr/local/lib/python3.7/dist-packages (from protobuf!=3.0.0.b2.post1,>=3.0.0b2->gcloud) (54.2.0)\n",
            "Building wheels for collected packages: gcloud\n",
            "  Building wheel for gcloud (setup.py) ... \u001b[?25l\u001b[?25hdone\n",
            "  Created wheel for gcloud: filename=gcloud-0.18.3-cp37-none-any.whl size=602938 sha256=5e00d340b85c4f80f59a4bfcf016dd7231e0776e684693d172d8456d2b4eb26f\n",
            "  Stored in directory: /root/.cache/pip/wheels/b9/9b/9c/a01be401658fea33b93a35d03921b0c638266821b264dc8662\n",
            "Successfully built gcloud\n",
            "Installing collected packages: gcloud\n",
            "Successfully installed gcloud-0.18.3\n"
          ],
          "name": "stdout"
        }
      ]
    },
    {
      "cell_type": "code",
      "metadata": {
        "colab": {
          "base_uri": "https://localhost:8080/"
        },
        "id": "wHvOOniyT4HQ",
        "outputId": "0d8445aa-1267-4d98-fbac-913aa43dd38e"
      },
      "source": [
        "pip install sseclient"
      ],
      "execution_count": 11,
      "outputs": [
        {
          "output_type": "stream",
          "text": [
            "Collecting sseclient\n",
            "  Downloading https://files.pythonhosted.org/packages/cf/6c/fa601216344952be8f9a51a3f49b4274bbbc58bd395f87f67f6131726358/sseclient-0.0.27.tar.gz\n",
            "Requirement already satisfied: requests>=2.9 in /usr/local/lib/python3.7/dist-packages (from sseclient) (2.23.0)\n",
            "Requirement already satisfied: six in /usr/local/lib/python3.7/dist-packages (from sseclient) (1.15.0)\n",
            "Requirement already satisfied: urllib3!=1.25.0,!=1.25.1,<1.26,>=1.21.1 in /usr/local/lib/python3.7/dist-packages (from requests>=2.9->sseclient) (1.24.3)\n",
            "Requirement already satisfied: chardet<4,>=3.0.2 in /usr/local/lib/python3.7/dist-packages (from requests>=2.9->sseclient) (3.0.4)\n",
            "Requirement already satisfied: idna<3,>=2.5 in /usr/local/lib/python3.7/dist-packages (from requests>=2.9->sseclient) (2.10)\n",
            "Requirement already satisfied: certifi>=2017.4.17 in /usr/local/lib/python3.7/dist-packages (from requests>=2.9->sseclient) (2020.12.5)\n",
            "Building wheels for collected packages: sseclient\n",
            "  Building wheel for sseclient (setup.py) ... \u001b[?25l\u001b[?25hdone\n",
            "  Created wheel for sseclient: filename=sseclient-0.0.27-cp37-none-any.whl size=5574 sha256=848923b6bdafb993a13319f3eed9d3996f77c12a0f0a014ecb88fd00bdf15fd5\n",
            "  Stored in directory: /root/.cache/pip/wheels/dc/78/2a/e6a65a58ac19de8ebeff9415501a0eec27b2c99792f67e3808\n",
            "Successfully built sseclient\n",
            "Installing collected packages: sseclient\n",
            "Successfully installed sseclient-0.0.27\n"
          ],
          "name": "stdout"
        }
      ]
    },
    {
      "cell_type": "code",
      "metadata": {
        "colab": {
          "base_uri": "https://localhost:8080/"
        },
        "id": "pq9b7fJPT1Ly",
        "outputId": "1b86416d-2407-44e1-ed48-e0b1cfab7062"
      },
      "source": [
        "pip install pycryptodome"
      ],
      "execution_count": 12,
      "outputs": [
        {
          "output_type": "stream",
          "text": [
            "Collecting pycryptodome\n",
            "\u001b[?25l  Downloading https://files.pythonhosted.org/packages/ad/16/9627ab0493894a11c68e46000dbcc82f578c8ff06bc2980dcd016aea9bd3/pycryptodome-3.10.1-cp35-abi3-manylinux2010_x86_64.whl (1.9MB)\n",
            "\u001b[K     |████████████████████████████████| 1.9MB 8.6MB/s \n",
            "\u001b[?25hInstalling collected packages: pycryptodome\n",
            "Successfully installed pycryptodome-3.10.1\n"
          ],
          "name": "stdout"
        }
      ]
    },
    {
      "cell_type": "code",
      "metadata": {
        "colab": {
          "base_uri": "https://localhost:8080/"
        },
        "id": "fDDj0BViUAMI",
        "outputId": "53a2842b-41be-4f85-9933-c75d1c24c76f"
      },
      "source": [
        "pip install requests_toolbelt"
      ],
      "execution_count": 13,
      "outputs": [
        {
          "output_type": "stream",
          "text": [
            "Collecting requests_toolbelt\n",
            "\u001b[?25l  Downloading https://files.pythonhosted.org/packages/60/ef/7681134338fc097acef8d9b2f8abe0458e4d87559c689a8c306d0957ece5/requests_toolbelt-0.9.1-py2.py3-none-any.whl (54kB)\n",
            "\r\u001b[K     |██████                          | 10kB 16.0MB/s eta 0:00:01\r\u001b[K     |████████████                    | 20kB 12.6MB/s eta 0:00:01\r\u001b[K     |██████████████████              | 30kB 12.1MB/s eta 0:00:01\r\u001b[K     |████████████████████████▏       | 40kB 10.0MB/s eta 0:00:01\r\u001b[K     |██████████████████████████████▏ | 51kB 8.8MB/s eta 0:00:01\r\u001b[K     |████████████████████████████████| 61kB 3.7MB/s \n",
            "\u001b[?25hRequirement already satisfied: requests<3.0.0,>=2.0.1 in /usr/local/lib/python3.7/dist-packages (from requests_toolbelt) (2.23.0)\n",
            "Requirement already satisfied: certifi>=2017.4.17 in /usr/local/lib/python3.7/dist-packages (from requests<3.0.0,>=2.0.1->requests_toolbelt) (2020.12.5)\n",
            "Requirement already satisfied: chardet<4,>=3.0.2 in /usr/local/lib/python3.7/dist-packages (from requests<3.0.0,>=2.0.1->requests_toolbelt) (3.0.4)\n",
            "Requirement already satisfied: idna<3,>=2.5 in /usr/local/lib/python3.7/dist-packages (from requests<3.0.0,>=2.0.1->requests_toolbelt) (2.10)\n",
            "Requirement already satisfied: urllib3!=1.25.0,!=1.25.1,<1.26,>=1.21.1 in /usr/local/lib/python3.7/dist-packages (from requests<3.0.0,>=2.0.1->requests_toolbelt) (1.24.3)\n",
            "Installing collected packages: requests-toolbelt\n",
            "Successfully installed requests-toolbelt-0.9.1\n"
          ],
          "name": "stdout"
        }
      ]
    },
    {
      "cell_type": "code",
      "metadata": {
        "colab": {
          "base_uri": "https://localhost:8080/"
        },
        "id": "akPX0xN5VTq0",
        "outputId": "731bb00e-9caf-4b51-944b-9989863a81f5"
      },
      "source": [
        "pip install gevent"
      ],
      "execution_count": 5,
      "outputs": [
        {
          "output_type": "stream",
          "text": [
            "Collecting gevent\n",
            "\u001b[?25l  Downloading https://files.pythonhosted.org/packages/3e/85/df3d1fd2b60a87455475f93012861b76a411d27ba4a0859939adbe2c9dc3/gevent-21.1.2-cp37-cp37m-manylinux2010_x86_64.whl (5.6MB)\n",
            "\u001b[K     |████████████████████████████████| 5.6MB 7.7MB/s \n",
            "\u001b[?25hRequirement already satisfied: setuptools in /usr/local/lib/python3.7/dist-packages (from gevent) (54.2.0)\n",
            "Collecting zope.interface\n",
            "\u001b[?25l  Downloading https://files.pythonhosted.org/packages/89/57/8a68360d697cf9159cba5ee35f2d25bdcda33883e8b5a997714a191a0b11/zope.interface-5.3.0-cp37-cp37m-manylinux2010_x86_64.whl (248kB)\n",
            "\u001b[K     |████████████████████████████████| 256kB 19.5MB/s \n",
            "\u001b[?25hCollecting zope.event\n",
            "  Downloading https://files.pythonhosted.org/packages/9e/85/b45408c64f3b888976f1d5b37eed8d746b8d5729a66a49ec846fda27d371/zope.event-4.5.0-py2.py3-none-any.whl\n",
            "Requirement already satisfied: greenlet<2.0,>=0.4.17; platform_python_implementation == \"CPython\" in /usr/local/lib/python3.7/dist-packages (from gevent) (1.0.0)\n",
            "Installing collected packages: zope.interface, zope.event, gevent\n",
            "Successfully installed gevent-21.1.2 zope.event-4.5.0 zope.interface-5.3.0\n"
          ],
          "name": "stdout"
        }
      ]
    },
    {
      "cell_type": "code",
      "metadata": {
        "colab": {
          "base_uri": "https://localhost:8080/"
        },
        "id": "eUf1dOdbY9aE",
        "outputId": "878346e4-48de-4a99-ac1e-6d4d70d04ae8"
      },
      "source": [
        "!npm install -g firebase-tools"
      ],
      "execution_count": 9,
      "outputs": [
        {
          "output_type": "stream",
          "text": [
            "\u001b[K\u001b[?25h\u001b[37;40mnpm\u001b[0m \u001b[0m\u001b[30;43mWARN\u001b[0m \u001b[0m\u001b[35mdeprecated\u001b[0m request@2.88.2: request has been deprecated, see https://github.com/request/request/issues/3142\n",
            "\u001b[K\u001b[?25h\u001b[37;40mnpm\u001b[0m \u001b[0m\u001b[30;43mWARN\u001b[0m \u001b[0m\u001b[35mdeprecated\u001b[0m har-validator@5.1.5: this library is no longer supported\n",
            "\u001b[K\u001b[?25h/tools/node/bin/firebase -> /tools/node/lib/node_modules/firebase-tools/lib/bin/firebase.js\n",
            "\u001b[K\u001b[?25h\n",
            "> re2@1.15.9 install /tools/node/lib/node_modules/firebase-tools/node_modules/re2\n",
            "> install-from-cache --artifact build/Release/re2.node --host-var RE2_DOWNLOAD_MIRROR || npm run rebuild\n",
            "\n",
            "Trying https://github.com/uhop/node-re2/releases/download/1.15.9/linux-x64-83.br ...\n",
            "Writing to build/Release/re2.node ...\n",
            "Trying https://github.com/uhop/node-re2/releases/download/1.15.9/linux-x64-83.gz ...\n",
            "Writing to build/Release/re2.node ...\n",
            "Building locally ...\n",
            "npm ERR! code EACCES\n",
            "npm ERR! syscall scandir\n",
            "npm ERR! path /root/.npm/_logs\n",
            "npm ERR! errno -13\n",
            "npm ERR! \n",
            "npm ERR! Your cache folder contains root-owned files, due to a bug in\n",
            "npm ERR! previous versions of npm which has since been addressed.\n",
            "npm ERR! \n",
            "npm ERR! To permanently fix this problem, please run:\n",
            "npm ERR!   sudo chown -R 65534:0 \"/root/.npm\"\n",
            "glob error [Error: EACCES: permission denied, scandir '/root/.npm/_logs'] {\n",
            "  errno: -13,\n",
            "  code: 'EACCES',\n",
            "  syscall: 'scandir',\n",
            "  path: '/root/.npm/_logs'\n",
            "}\n",
            "\n",
            "> re2@1.15.9 rebuild /tools/node/lib/node_modules/firebase-tools/node_modules/re2\n",
            "> node-gyp rebuild\n",
            "\n",
            "gyp WARN EACCES current user (\"nobody\") does not have permission to access the dev dir \"/root/.cache/node-gyp/14.16.0\"\n",
            "gyp WARN EACCES attempting to reinstall using temporary dev dir \"/tools/node/lib/node_modules/firebase-tools/node_modules/re2/.node-gyp\"\n",
            "gyp WARN install got an error, rolling back install\n",
            "gyp WARN install got an error, rolling back install\n",
            "gyp ERR! configure error \n",
            "gyp ERR! stack Error: EACCES: permission denied, mkdir '/tools/node/lib/node_modules/firebase-tools/node_modules/re2/.node-gyp'\n",
            "gyp ERR! System Linux 4.19.112+\n",
            "gyp ERR! command \"/tools/node/bin/node\" \"/tools/node/lib/node_modules/npm/node_modules/node-gyp/bin/node-gyp.js\" \"rebuild\"\n",
            "gyp ERR! cwd /tools/node/lib/node_modules/firebase-tools/node_modules/re2\n",
            "gyp ERR! node -v v14.16.0\n",
            "gyp ERR! node-gyp -v v5.1.0\n",
            "gyp ERR! not ok \n",
            "npm ERR! code ELIFECYCLE\n",
            "npm ERR! errno 1\n",
            "npm ERR! re2@1.15.9 rebuild: `node-gyp rebuild`\n",
            "npm ERR! Exit status 1\n",
            "npm ERR! \n",
            "npm ERR! Failed at the re2@1.15.9 rebuild script.\n",
            "npm ERR! This is probably not a problem with npm. There is likely additional logging output above.\n",
            "(node:732) UnhandledPromiseRejectionWarning: 243\n",
            "(Use `node --trace-warnings ...` to show where the warning was created)\n",
            "(node:732) UnhandledPromiseRejectionWarning: Unhandled promise rejection. This error originated either by throwing inside of an async function without a catch block, or by rejecting a promise which was not handled with .catch(). To terminate the node process on unhandled promise rejection, use the CLI flag `--unhandled-rejections=strict` (see https://nodejs.org/api/cli.html#cli_unhandled_rejections_mode). (rejection id: 1)\n",
            "(node:732) [DEP0018] DeprecationWarning: Unhandled promise rejections are deprecated. In the future, promise rejections that are not handled will terminate the Node.js process with a non-zero exit code.\n",
            "\u001b[K\u001b[?25h\n",
            "> protobufjs@6.10.2 postinstall /tools/node/lib/node_modules/firebase-tools/node_modules/protobufjs\n",
            "> node scripts/postinstall\n",
            "\n",
            "\u001b[K\u001b[?25h\u001b[37;40mnpm\u001b[0m \u001b[0m\u001b[30;43mWARN\u001b[0m \u001b[0m\u001b[35moptional\u001b[0m SKIPPING OPTIONAL DEPENDENCY: fsevents@~2.3.1 (node_modules/firebase-tools/node_modules/chokidar/node_modules/fsevents):\n",
            "\u001b[0m\u001b[37;40mnpm\u001b[0m \u001b[0m\u001b[30;43mWARN\u001b[0m \u001b[0m\u001b[35mnotsup\u001b[0m SKIPPING OPTIONAL DEPENDENCY: Unsupported platform for fsevents@2.3.2: wanted {\"os\":\"darwin\",\"arch\":\"any\"} (current: {\"os\":\"linux\",\"arch\":\"x64\"})\n",
            "\u001b[0m\n",
            "+ firebase-tools@9.9.0\n",
            "added 639 packages from 411 contributors in 35.223s\n"
          ],
          "name": "stdout"
        }
      ]
    },
    {
      "cell_type": "code",
      "metadata": {
        "colab": {
          "base_uri": "https://localhost:8080/"
        },
        "id": "AqtKMOyQZg3N",
        "outputId": "e12aee3f-251d-401b-e024-16ef2dd78189"
      },
      "source": [
        "!firebase login --no-localhost"
      ],
      "execution_count": 10,
      "outputs": [
        {
          "output_type": "stream",
          "text": [
            "\u001b[1m\u001b[36mi \u001b[39m\u001b[22m Firebase optionally collects CLI usage and error reporting information to help improve our products. Data is collected in accordance with Google's privacy policy (https://policies.google.com/privacy) and is not used to identify you.\n",
            "\n",
            "\u001b[32m?\u001b[39m \u001b[1mAllow Firebase to collect CLI usage and error reporting information?\u001b[22m\u001b[0m \u001b[0m\u001b[2m(Y/n) \u001b[22m\u001b[77D\u001b[77C\u001b[2K\u001b[G\u001b[32m?\u001b[39m \u001b[1mAllow Firebase to collect CLI usage and error reporting information?\u001b[22m\u001b[0m \u001b[0m\u001b[36mYes\u001b[39m\u001b[74D\u001b[74C\n",
            "\u001b[1m\u001b[36mi \u001b[39m\u001b[22m To change your data collection preference at any time, run `firebase logout` and log in again.\n",
            "\n",
            "Visit this URL on any device to log in:\n",
            "\u001b[1m\u001b[4mhttps://accounts.google.com/o/oauth2/auth?client_id=563584335869-fgrhgmd47bqnekij5i8b5pr03ho849e6.apps.googleusercontent.com&scope=email%20openid%20https%3A%2F%2Fwww.googleapis.com%2Fauth%2Fcloudplatformprojects.readonly%20https%3A%2F%2Fwww.googleapis.com%2Fauth%2Ffirebase%20https%3A%2F%2Fwww.googleapis.com%2Fauth%2Fcloud-platform&response_type=code&state=679854929&redirect_uri=urn%3Aietf%3Awg%3Aoauth%3A2.0%3Aoob\u001b[24m\u001b[22m\n",
            "\n",
            "\u001b[32m?\u001b[39m \u001b[1mPaste authorization code here:\u001b[22m\u001b[0m \u001b[0m\u001b[33D\u001b[33C\u001b[2K\u001b[G\u001b[32m?\u001b[39m \u001b[1mPaste authorization code here:\u001b[22m\u001b[0m \u001b[0m4\u001b[34D\u001b[34C\u001b[2K\u001b[G\u001b[32m?\u001b[39m \u001b[1mPaste authorization code here:\u001b[22m\u001b[0m \u001b[0m4/\u001b[35D\u001b[35C\u001b[2K\u001b[G\u001b[32m?\u001b[39m \u001b[1mPaste authorization code here:\u001b[22m\u001b[0m \u001b[0m4/1\u001b[36D\u001b[36C\u001b[2K\u001b[G\u001b[32m?\u001b[39m \u001b[1mPaste authorization code here:\u001b[22m\u001b[0m \u001b[0m4/1A\u001b[37D\u001b[37C\u001b[2K\u001b[G\u001b[32m?\u001b[39m \u001b[1mPaste authorization code here:\u001b[22m\u001b[0m \u001b[0m4/1AY\u001b[38D\u001b[38C\u001b[2K\u001b[G\u001b[32m?\u001b[39m \u001b[1mPaste authorization code here:\u001b[22m\u001b[0m \u001b[0m4/1AY0\u001b[39D\u001b[39C\u001b[2K\u001b[G\u001b[32m?\u001b[39m \u001b[1mPaste authorization code here:\u001b[22m\u001b[0m \u001b[0m4/1AY0e\u001b[40D\u001b[40C\u001b[2K\u001b[G\u001b[32m?\u001b[39m \u001b[1mPaste authorization code here:\u001b[22m\u001b[0m \u001b[0m4/1AY0e-\u001b[41D\u001b[41C\u001b[2K\u001b[G\u001b[32m?\u001b[39m \u001b[1mPaste authorization code here:\u001b[22m\u001b[0m \u001b[0m4/1AY0e-g\u001b[42D\u001b[42C\u001b[2K\u001b[G\u001b[32m?\u001b[39m \u001b[1mPaste authorization code here:\u001b[22m\u001b[0m \u001b[0m4/1AY0e-g7\u001b[43D\u001b[43C\u001b[2K\u001b[G\u001b[32m?\u001b[39m \u001b[1mPaste authorization code here:\u001b[22m\u001b[0m \u001b[0m4/1AY0e-g7J\u001b[44D\u001b[44C\u001b[2K\u001b[G\u001b[32m?\u001b[39m \u001b[1mPaste authorization code here:\u001b[22m\u001b[0m \u001b[0m4/1AY0e-g7JL\u001b[45D\u001b[45C\u001b[2K\u001b[G\u001b[32m?\u001b[39m \u001b[1mPaste authorization code here:\u001b[22m\u001b[0m \u001b[0m4/1AY0e-g7JLV\u001b[46D\u001b[46C\u001b[2K\u001b[G\u001b[32m?\u001b[39m \u001b[1mPaste authorization code here:\u001b[22m\u001b[0m \u001b[0m4/1AY0e-g7JLVd\u001b[47D\u001b[47C\u001b[2K\u001b[G\u001b[32m?\u001b[39m \u001b[1mPaste authorization code here:\u001b[22m\u001b[0m \u001b[0m4/1AY0e-g7JLVdD\u001b[48D\u001b[48C\u001b[2K\u001b[G\u001b[32m?\u001b[39m \u001b[1mPaste authorization code here:\u001b[22m\u001b[0m \u001b[0m4/1AY0e-g7JLVdDf\u001b[49D\u001b[49C\u001b[2K\u001b[G\u001b[32m?\u001b[39m \u001b[1mPaste authorization code here:\u001b[22m\u001b[0m \u001b[0m4/1AY0e-g7JLVdDfd\u001b[50D\u001b[50C\u001b[2K\u001b[G\u001b[32m?\u001b[39m \u001b[1mPaste authorization code here:\u001b[22m\u001b[0m \u001b[0m4/1AY0e-g7JLVdDfdP\u001b[51D\u001b[51C\u001b[2K\u001b[G\u001b[32m?\u001b[39m \u001b[1mPaste authorization code here:\u001b[22m\u001b[0m \u001b[0m4/1AY0e-g7JLVdDfdPV\u001b[52D\u001b[52C\u001b[2K\u001b[G\u001b[32m?\u001b[39m \u001b[1mPaste authorization code here:\u001b[22m\u001b[0m \u001b[0m4/1AY0e-g7JLVdDfdPVO\u001b[53D\u001b[53C\u001b[2K\u001b[G\u001b[32m?\u001b[39m \u001b[1mPaste authorization code here:\u001b[22m\u001b[0m \u001b[0m4/1AY0e-g7JLVdDfdPVON\u001b[54D\u001b[54C\u001b[2K\u001b[G\u001b[32m?\u001b[39m \u001b[1mPaste authorization code here:\u001b[22m\u001b[0m \u001b[0m4/1AY0e-g7JLVdDfdPVONB\u001b[55D\u001b[55C\u001b[2K\u001b[G\u001b[32m?\u001b[39m \u001b[1mPaste authorization code here:\u001b[22m\u001b[0m \u001b[0m4/1AY0e-g7JLVdDfdPVONBh\u001b[56D\u001b[56C\u001b[2K\u001b[G\u001b[32m?\u001b[39m \u001b[1mPaste authorization code here:\u001b[22m\u001b[0m \u001b[0m4/1AY0e-g7JLVdDfdPVONBhu\u001b[57D\u001b[57C\u001b[2K\u001b[G\u001b[32m?\u001b[39m \u001b[1mPaste authorization code here:\u001b[22m\u001b[0m \u001b[0m4/1AY0e-g7JLVdDfdPVONBhu5\u001b[58D\u001b[58C\u001b[2K\u001b[G\u001b[32m?\u001b[39m \u001b[1mPaste authorization code here:\u001b[22m\u001b[0m \u001b[0m4/1AY0e-g7JLVdDfdPVONBhu5t\u001b[59D\u001b[59C\u001b[2K\u001b[G\u001b[32m?\u001b[39m \u001b[1mPaste authorization code here:\u001b[22m\u001b[0m \u001b[0m4/1AY0e-g7JLVdDfdPVONBhu5tV\u001b[60D\u001b[60C\u001b[2K\u001b[G\u001b[32m?\u001b[39m \u001b[1mPaste authorization code here:\u001b[22m\u001b[0m \u001b[0m4/1AY0e-g7JLVdDfdPVONBhu5tVc\u001b[61D\u001b[61C\u001b[2K\u001b[G\u001b[32m?\u001b[39m \u001b[1mPaste authorization code here:\u001b[22m\u001b[0m \u001b[0m4/1AY0e-g7JLVdDfdPVONBhu5tVc-\u001b[62D\u001b[62C\u001b[2K\u001b[G\u001b[32m?\u001b[39m \u001b[1mPaste authorization code here:\u001b[22m\u001b[0m \u001b[0m4/1AY0e-g7JLVdDfdPVONBhu5tVc-g\u001b[63D\u001b[63C\u001b[2K\u001b[G\u001b[32m?\u001b[39m \u001b[1mPaste authorization code here:\u001b[22m\u001b[0m \u001b[0m4/1AY0e-g7JLVdDfdPVONBhu5tVc-gU\u001b[64D\u001b[64C\u001b[2K\u001b[G\u001b[32m?\u001b[39m \u001b[1mPaste authorization code here:\u001b[22m\u001b[0m \u001b[0m4/1AY0e-g7JLVdDfdPVONBhu5tVc-gUJ\u001b[65D\u001b[65C\u001b[2K\u001b[G\u001b[32m?\u001b[39m \u001b[1mPaste authorization code here:\u001b[22m\u001b[0m \u001b[0m4/1AY0e-g7JLVdDfdPVONBhu5tVc-gUJc\u001b[66D\u001b[66C\u001b[2K\u001b[G\u001b[32m?\u001b[39m \u001b[1mPaste authorization code here:\u001b[22m\u001b[0m \u001b[0m4/1AY0e-g7JLVdDfdPVONBhu5tVc-gUJcM\u001b[67D\u001b[67C\u001b[2K\u001b[G\u001b[32m?\u001b[39m \u001b[1mPaste authorization code here:\u001b[22m\u001b[0m \u001b[0m4/1AY0e-g7JLVdDfdPVONBhu5tVc-gUJcM1\u001b[68D\u001b[68C\u001b[2K\u001b[G\u001b[32m?\u001b[39m \u001b[1mPaste authorization code here:\u001b[22m\u001b[0m \u001b[0m4/1AY0e-g7JLVdDfdPVONBhu5tVc-gUJcM1c\u001b[69D\u001b[69C\u001b[2K\u001b[G\u001b[32m?\u001b[39m \u001b[1mPaste authorization code here:\u001b[22m\u001b[0m \u001b[0m4/1AY0e-g7JLVdDfdPVONBhu5tVc-gUJcM1cC\u001b[70D\u001b[70C\u001b[2K\u001b[G\u001b[32m?\u001b[39m \u001b[1mPaste authorization code here:\u001b[22m\u001b[0m \u001b[0m4/1AY0e-g7JLVdDfdPVONBhu5tVc-gUJcM1cC4\u001b[71D\u001b[71C\u001b[2K\u001b[G\u001b[32m?\u001b[39m \u001b[1mPaste authorization code here:\u001b[22m\u001b[0m \u001b[0m4/1AY0e-g7JLVdDfdPVONBhu5tVc-gUJcM1cC4b\u001b[72D\u001b[72C\u001b[2K\u001b[G\u001b[32m?\u001b[39m \u001b[1mPaste authorization code here:\u001b[22m\u001b[0m \u001b[0m4/1AY0e-g7JLVdDfdPVONBhu5tVc-gUJcM1cC4bp\u001b[73D\u001b[73C\u001b[2K\u001b[G\u001b[32m?\u001b[39m \u001b[1mPaste authorization code here:\u001b[22m\u001b[0m \u001b[0m4/1AY0e-g7JLVdDfdPVONBhu5tVc-gUJcM1cC4bpO\u001b[74D\u001b[74C\u001b[2K\u001b[G\u001b[32m?\u001b[39m \u001b[1mPaste authorization code here:\u001b[22m\u001b[0m \u001b[0m4/1AY0e-g7JLVdDfdPVONBhu5tVc-gUJcM1cC4bpOL\u001b[75D\u001b[75C\u001b[2K\u001b[G\u001b[32m?\u001b[39m \u001b[1mPaste authorization code here:\u001b[22m\u001b[0m \u001b[0m4/1AY0e-g7JLVdDfdPVONBhu5tVc-gUJcM1cC4bpOLS\u001b[76D\u001b[76C\u001b[2K\u001b[G\u001b[32m?\u001b[39m \u001b[1mPaste authorization code here:\u001b[22m\u001b[0m \u001b[0m4/1AY0e-g7JLVdDfdPVONBhu5tVc-gUJcM1cC4bpOLSI\u001b[77D\u001b[77C\u001b[2K\u001b[G\u001b[32m?\u001b[39m \u001b[1mPaste authorization code here:\u001b[22m\u001b[0m \u001b[0m4/1AY0e-g7JLVdDfdPVONBhu5tVc-gUJcM1cC4bpOLSIQ\u001b[78D\u001b[78C\u001b[2K\u001b[G\u001b[32m?\u001b[39m \u001b[1mPaste authorization code here:\u001b[22m\u001b[0m \u001b[0m4/1AY0e-g7JLVdDfdPVONBhu5tVc-gUJcM1cC4bpOLSIQu\u001b[79D\u001b[79C\u001b[2K\u001b[G\u001b[32m?\u001b[39m \u001b[1mPaste authorization code here:\u001b[22m\u001b[0m \u001b[0m4/1AY0e-g7JLVdDfdPVONBhu5tVc-gUJcM1cC4bpOLSIQut\n",
            "\u001b[1A\u001b[0D\u001b[80C\u001b[1B\u001b[2K\u001b[1A\u001b[2K\u001b[G\u001b[32m?\u001b[39m \u001b[1mPaste authorization code here:\u001b[22m\u001b[0m \u001b[0m4/1AY0e-g7JLVdDfdPVONBhu5tVc-gUJcM1cC4bpOLSIQut\n",
            "Q\u001b[1A\u001b[1D\u001b[81C\u001b[1B\u001b[2K\u001b[1A\u001b[2K\u001b[G\u001b[32m?\u001b[39m \u001b[1mPaste authorization code here:\u001b[22m\u001b[0m \u001b[0m4/1AY0e-g7JLVdDfdPVONBhu5tVc-gUJcM1cC4bpOLSIQut\n",
            "Q3\u001b[1A\u001b[2D\u001b[82C\u001b[1B\u001b[2K\u001b[1A\u001b[2K\u001b[G\u001b[32m?\u001b[39m \u001b[1mPaste authorization code here:\u001b[22m\u001b[0m \u001b[0m4/1AY0e-g7JLVdDfdPVONBhu5tVc-gUJcM1cC4bpOLSIQut\n",
            "Q3r\u001b[1A\u001b[3D\u001b[83C\u001b[1B\u001b[2K\u001b[1A\u001b[2K\u001b[G\u001b[32m?\u001b[39m \u001b[1mPaste authorization code here:\u001b[22m\u001b[0m \u001b[0m4/1AY0e-g7JLVdDfdPVONBhu5tVc-gUJcM1cC4bpOLSIQut\n",
            "Q3rN\u001b[1A\u001b[4D\u001b[84C\u001b[1B\u001b[2K\u001b[1A\u001b[2K\u001b[G\u001b[32m?\u001b[39m \u001b[1mPaste authorization code here:\u001b[22m\u001b[0m \u001b[0m4/1AY0e-g7JLVdDfdPVONBhu5tVc-gUJcM1cC4bpOLSIQut\n",
            "Q3rNY\u001b[1A\u001b[5D\u001b[85C\u001b[1B\u001b[2K\u001b[1A\u001b[2K\u001b[G\u001b[32m?\u001b[39m \u001b[1mPaste authorization code here:\u001b[22m\u001b[0m \u001b[0m4/1AY0e-g7JLVdDfdPVONBhu5tVc-gUJcM1cC4bpOLSIQut\n",
            "Q3rNYL\u001b[1A\u001b[6D\u001b[86C\u001b[1B\u001b[2K\u001b[1A\u001b[2K\u001b[G\u001b[32m?\u001b[39m \u001b[1mPaste authorization code here:\u001b[22m\u001b[0m \u001b[0m4/1AY0e-g7JLVdDfdPVONBhu5tVc-gUJcM1cC4bpOLSIQut\n",
            "Q3rNYLg\u001b[1A\u001b[7D\u001b[87C\u001b[1B\u001b[2K\u001b[1A\u001b[2K\u001b[G\u001b[32m?\u001b[39m \u001b[1mPaste authorization code here:\u001b[22m\u001b[0m \u001b[0m4/1AY0e-g7JLVdDfdPVONBhu5tVc-gUJcM1cC4bpOLSIQut\n",
            "Q3rNYLgl\u001b[1A\u001b[8D\u001b[88C\u001b[1B\u001b[2K\u001b[1A\u001b[2K\u001b[G\u001b[32m?\u001b[39m \u001b[1mPaste authorization code here:\u001b[22m\u001b[0m \u001b[0m4/1AY0e-g7JLVdDfdPVONBhu5tVc-gUJcM1cC4bpOLSIQut\n",
            "Q3rNYLglb\u001b[1A\u001b[9D\u001b[89C\u001b[1B\u001b[2K\u001b[1A\u001b[2K\u001b[G\u001b[32m?\u001b[39m \u001b[1mPaste authorization code here:\u001b[22m\u001b[0m \u001b[0m4/1AY0e-g7JLVdDfdPVONBhu5tVc-gUJcM1cC4bpOLSIQut\n",
            "Q3rNYLglbB\u001b[1A\u001b[10D\u001b[90C\u001b[1B\u001b[2K\u001b[1A\u001b[2K\u001b[G\u001b[32m?\u001b[39m \u001b[1mPaste authorization code here:\u001b[22m\u001b[0m \u001b[0m4/1AY0e-g7JLVdDfdPVONBhu5tVc-gUJcM1cC4bpOLSIQut\n",
            "Q3rNYLglbBA\u001b[1A\u001b[11D\u001b[91C\u001b[1B\u001b[2K\u001b[1A\u001b[2K\u001b[G\u001b[32m?\u001b[39m \u001b[1mPaste authorization code here:\u001b[22m\u001b[0m \u001b[0m4/1AY0e-g7JLVdDfdPVONBhu5tVc-gUJcM1cC4bpOLSIQut\n",
            "Q3rNYLglbBAW\u001b[1A\u001b[12D\u001b[92C\u001b[1B\u001b[2K\u001b[1A\u001b[2K\u001b[G\u001b[32m?\u001b[39m \u001b[1mPaste authorization code here:\u001b[22m\u001b[0m \u001b[0m4/1AY0e-g7JLVdDfdPVONBhu5tVc-gUJcM1cC4bpOLSIQut\n",
            "Q3rNYLglbBAWt\u001b[1A\u001b[13D\u001b[93C\u001b[1B\u001b[2K\u001b[1A\u001b[2K\u001b[G\u001b[32m?\u001b[39m \u001b[1mPaste authorization code here:\u001b[22m\u001b[0m \u001b[0m4/1AY0e-g7JLVdDfdPVONBhu5tVc-gUJcM1cC4bpOLSIQut\n",
            "Q3rNYLglbBAWtx\u001b[1A\u001b[14D\u001b[94C\u001b[1B\u001b[2K\u001b[1A\u001b[2K\u001b[G\u001b[32m?\u001b[39m \u001b[1mPaste authorization code here:\u001b[22m\u001b[0m \u001b[0m4/1AY0e-g7JLVdDfdPVONBhu5tVc-gUJcM1cC4bpOLSIQut\n",
            "Q3rNYLglbBAWtxo\u001b[1A\u001b[15D\u001b[95C\u001b[1B\u001b[2K\u001b[1A\u001b[2K\u001b[G\u001b[32m?\u001b[39m \u001b[1mPaste authorization code here:\u001b[22m\u001b[0m \u001b[0m\u001b[36m4/1AY0e-g7JLVdDfdPVONBhu5tVc-gUJcM1cC4bpOLSIQut\n",
            "Q3rNYLglbBAWtxo\u001b[39m\u001b[1A\u001b[15D\u001b[95C\n",
            "\u001b[1B\n",
            "\u001b[1m\u001b[32m✔ \u001b[39m\u001b[22m Success! Logged in as \u001b[1mqmishra@gmail.com\u001b[22m\n"
          ],
          "name": "stdout"
        }
      ]
    },
    {
      "cell_type": "code",
      "metadata": {
        "colab": {
          "base_uri": "https://localhost:8080/"
        },
        "id": "FZzSxQ7aZntr",
        "outputId": "24cb567f-6686-4a5d-e759-07a81da391f7"
      },
      "source": [
        " !firebase init hosting"
      ],
      "execution_count": 19,
      "outputs": [
        {
          "output_type": "stream",
          "text": [
            "\u001b[1m\u001b[33m\n",
            "     ######## #### ########  ######## ########     ###     ######  ########\n",
            "     ##        ##  ##     ## ##       ##     ##  ##   ##  ##       ##\n",
            "     ######    ##  ########  ######   ########  #########  ######  ######\n",
            "     ##        ##  ##    ##  ##       ##     ## ##     ##       ## ##\n",
            "     ##       #### ##     ## ######## ########  ##     ##  ######  ########\n",
            "\u001b[39m\u001b[22m\n",
            "You're about to initialize a Firebase project in this directory:\n",
            "\n",
            "  \u001b[1m/content\u001b[22m\n",
            "\n",
            "Before we get started, keep in mind:\n",
            "\n",
            "  \u001b[1m\u001b[33m* \u001b[39m\u001b[22mYou are currently outside your home directory\n",
            "  \u001b[1m\u001b[33m* \u001b[39m\u001b[22mYou are initializing in an existing Firebase project directory\n",
            "\n",
            "\u001b[1m\n",
            "\u001b[37m=== \u001b[39mProject Setup\u001b[22m\n",
            "\n",
            "First, let's associate this project directory with a Firebase project.\n",
            "You can create multiple project aliases by running \u001b[1mfirebase use --add\u001b[22m, \n",
            "but for now we'll just set up a default project.\n",
            "\n",
            "\u001b[1m\u001b[36mi \u001b[39m\u001b[22m .firebaserc already has a default project, using my-firebase-project-13e59.\n",
            "\u001b[1m\n",
            "\u001b[37m=== \u001b[39mHosting Setup\u001b[22m\n",
            "\n",
            "Your \u001b[1mpublic\u001b[22m directory is the folder (relative to your project directory) that\n",
            "will contain Hosting assets to be uploaded with \u001b[1mfirebase deploy\u001b[22m. If you\n",
            "have a build process for your assets, use your build's output directory.\n",
            "\n",
            "\u001b[32m?\u001b[39m \u001b[1mWhat do you want to use as your public directory?\u001b[22m\u001b[0m \u001b[0m\u001b[2m(public) \u001b[22m\u001b[61D\u001b[61C\u001b[2K\u001b[G\u001b[32m?\u001b[39m \u001b[1mWhat do you want to use as your public directory?\u001b[22m\u001b[0m \u001b[0mp\u001b[53D\u001b[53C\u001b[2K\u001b[G\u001b[32m?\u001b[39m \u001b[1mWhat do you want to use as your public directory?\u001b[22m\u001b[0m \u001b[0mpu\u001b[54D\u001b[54C\u001b[2K\u001b[G\u001b[32m?\u001b[39m \u001b[1mWhat do you want to use as your public directory?\u001b[22m\u001b[0m \u001b[0mpub\u001b[55D\u001b[55C\u001b[2K\u001b[G\u001b[32m?\u001b[39m \u001b[1mWhat do you want to use as your public directory?\u001b[22m\u001b[0m \u001b[0mpubl\u001b[56D\u001b[56C\u001b[2K\u001b[G\u001b[32m?\u001b[39m \u001b[1mWhat do you want to use as your public directory?\u001b[22m\u001b[0m \u001b[0mpubli\u001b[57D\u001b[57C\u001b[2K\u001b[G\u001b[32m?\u001b[39m \u001b[1mWhat do you want to use as your public directory?\u001b[22m\u001b[0m \u001b[0mpublic\u001b[58D\u001b[58C\u001b[2K\u001b[G\u001b[32m?\u001b[39m \u001b[1mWhat do you want to use as your public directory?\u001b[22m\u001b[0m \u001b[0m\u001b[36mpublic\u001b[39m\u001b[58D\u001b[58C\n",
            "\u001b[32m?\u001b[39m \u001b[1mConfigure as a single-page app (rewrite all urls to /index.html)?\u001b[22m\u001b[0m \u001b[0m\u001b[2m(y/N) \u001b[22m\u001b[74D\u001b[74C\u001b[2K\u001b[G\u001b[32m?\u001b[39m \u001b[1mConfigure as a single-page app (rewrite all urls to /index.html)?\u001b[22m\u001b[0m \u001b[0m\u001b[2m(y/N) \u001b[22my\u001b[75D\u001b[75C\u001b[2K\u001b[G\u001b[32m?\u001b[39m \u001b[1mConfigure as a single-page app (rewrite all urls to /index.html)?\u001b[22m\u001b[0m \u001b[0m\u001b[36mYes\u001b[39m\u001b[71D\u001b[71C\n",
            "\u001b[32m?\u001b[39m \u001b[1mSet up automatic builds and deploys with GitHub?\u001b[22m\u001b[0m \u001b[0m\u001b[2m(y/N) \u001b[22m\u001b[57D\u001b[57C\u001b[2K\u001b[G\u001b[32m?\u001b[39m \u001b[1mSet up automatic builds and deploys with GitHub?\u001b[22m\u001b[0m \u001b[0m\u001b[2m(y/N) \u001b[22mn\u001b[58D\u001b[58C\u001b[2K\u001b[G\u001b[32m?\u001b[39m \u001b[1mSet up automatic builds and deploys with GitHub?\u001b[22m\u001b[0m \u001b[0m\u001b[36mNo\u001b[39m\u001b[53D\u001b[53C\n",
            "\u001b[32m?\u001b[39m \u001b[1mFile \u001b[4mpublic/index.html\u001b[24m already exists. Overwrite?\u001b[22m\u001b[0m \u001b[0m\u001b[2m(y/N) \u001b[22m\u001b[58D\u001b[58C\u001b[2K\u001b[G\u001b[32m?\u001b[39m \u001b[1mFile \u001b[4mpublic/index.html\u001b[24m already exists. Overwrite?\u001b[22m\u001b[0m \u001b[0m\u001b[2m(y/N) \u001b[22my\u001b[59D\u001b[59C\u001b[2K\u001b[G\u001b[32m?\u001b[39m \u001b[1mFile \u001b[4mpublic/index.html\u001b[24m already exists. Overwrite?\u001b[22m\u001b[0m \u001b[0m\u001b[36mYes\u001b[39m\u001b[55D\u001b[55C\n",
            "\u001b[1m\u001b[32m✔ \u001b[39m\u001b[22m Wrote \u001b[1mpublic/index.html\u001b[22m\n",
            "\n",
            "\u001b[1m\u001b[36mi \u001b[39m\u001b[22m Writing configuration info to \u001b[1mfirebase.json\u001b[22m...\n",
            "\u001b[1m\u001b[36mi \u001b[39m\u001b[22m Writing project information to \u001b[1m.firebaserc\u001b[22m...\n",
            "\n",
            "\u001b[1m\u001b[32m✔ \u001b[39m\u001b[22m Firebase initialization complete!\n"
          ],
          "name": "stdout"
        }
      ]
    },
    {
      "cell_type": "code",
      "metadata": {
        "colab": {
          "base_uri": "https://localhost:8080/"
        },
        "id": "1Q4esFe5Z128",
        "outputId": "38e23fd7-d455-463c-ca52-11876fe29506"
      },
      "source": [
        "!firebase deploy --only hosting"
      ],
      "execution_count": 22,
      "outputs": [
        {
          "output_type": "stream",
          "text": [
            "\n",
            "\u001b[1m\u001b[37m===\u001b[39m Deploying to 'my-firebase-project-13e59'...\u001b[22m\n",
            "\n",
            "\u001b[1m\u001b[36mi \u001b[39m\u001b[22m deploying \u001b[1mhosting\u001b[22m\n",
            "\u001b[1m\u001b[36mi  hosting[my-firebase-project-13e59]:\u001b[39m\u001b[22m beginning deploy...\n",
            "\u001b[1m\u001b[36mi  hosting[my-firebase-project-13e59]:\u001b[39m\u001b[22m found 2 files in \u001b[1mpublic\u001b[22m\n",
            "\u001b[2K\u001b[9999D\u001b[1m\u001b[36m⠋  hosting: \u001b[39m\u001b[22madding files to version [0/2] (\u001b[1m\u001b[32m0%\u001b[39m\u001b[22m)\u001b[2K\u001b[9999D\u001b[1m\u001b[36m⠙  hosting: \u001b[39m\u001b[22muploading new files [0/1] (\u001b[1m\u001b[32m0%\u001b[39m\u001b[22m)\u001b[2K\u001b[9999D\u001b[1m\u001b[36m⠹  hosting: \u001b[39m\u001b[22muploading new files [0/1] (\u001b[1m\u001b[32m0%\u001b[39m\u001b[22m)\u001b[2K\u001b[9999D\u001b[1m\u001b[36m⠸  hosting: \u001b[39m\u001b[22muploading new files [0/1] (\u001b[1m\u001b[32m0%\u001b[39m\u001b[22m)\u001b[2K\u001b[9999D\u001b[1m\u001b[36m⠼  hosting: \u001b[39m\u001b[22muploading new files [0/1] (\u001b[1m\u001b[32m0%\u001b[39m\u001b[22m)\u001b[2K\u001b[9999D\u001b[1m\u001b[32m✔  hosting[my-firebase-project-13e59]:\u001b[39m\u001b[22m file upload complete\n",
            "\u001b[1m\u001b[36mi  hosting[my-firebase-project-13e59]:\u001b[39m\u001b[22m finalizing version...\n",
            "\u001b[1m\u001b[32m✔  hosting[my-firebase-project-13e59]:\u001b[39m\u001b[22m version finalized\n",
            "\u001b[1m\u001b[36mi  hosting[my-firebase-project-13e59]:\u001b[39m\u001b[22m releasing new version...\n",
            "\u001b[1m\u001b[32m✔  hosting[my-firebase-project-13e59]:\u001b[39m\u001b[22m release complete\n",
            "\n",
            "\u001b[1m\u001b[32m✔ \u001b[39m\u001b[22m \u001b[1m\u001b[4mDeploy complete!\u001b[24m\u001b[22m\n",
            "\n",
            "\u001b[1mProject Console:\u001b[22m https://console.firebase.google.com/project/my-firebase-project-13e59/overview\n",
            "\u001b[1mHosting URL:\u001b[22m https://my-firebase-project-13e59.web.app\n"
          ],
          "name": "stdout"
        }
      ]
    }
  ]
}